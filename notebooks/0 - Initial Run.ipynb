{
 "cells": [
  {
   "cell_type": "code",
   "execution_count": 2,
   "id": "cafd3878-d962-4232-8fa8-2222e780abb1",
   "metadata": {},
   "outputs": [],
   "source": [
    "import requests\n",
    "import base64"
   ]
  },
  {
   "cell_type": "code",
   "execution_count": 11,
   "id": "b1a1813f-1275-4438-8f63-6e2c9aa7889b",
   "metadata": {},
   "outputs": [],
   "source": [
    "client_id=123\n",
    "client_secret=123\n",
    "\n",
    "client_id_secret = b\"{client_id}:{client_secret}\"\n",
    "\n",
    "b64_client_id_secret = base64.b64encode(client_id_secret)\n",
    "\n",
    "headers = {\n",
    "            'Authorization': b'Basic {b64_client_id_secret}'\n",
    "          }"
   ]
  },
  {
   "cell_type": "code",
   "execution_count": null,
   "id": "a388f5b5-ac5a-4026-9c61-9302f589e8c2",
   "metadata": {},
   "outputs": [],
   "source": []
  }
 ],
 "metadata": {
  "kernelspec": {
   "display_name": "Python 3 (ipykernel)",
   "language": "python",
   "name": "python3"
  },
  "language_info": {
   "codemirror_mode": {
    "name": "ipython",
    "version": 3
   },
   "file_extension": ".py",
   "mimetype": "text/x-python",
   "name": "python",
   "nbconvert_exporter": "python",
   "pygments_lexer": "ipython3",
   "version": "3.12.4"
  }
 },
 "nbformat": 4,
 "nbformat_minor": 5
}
